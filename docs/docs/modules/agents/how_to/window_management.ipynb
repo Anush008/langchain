{
 "cells": [
  {
   "cell_type": "code",
   "execution_count": null,
   "id": "4b0686dc-ad06-4a0d-83cf-7f760580cc95",
   "metadata": {},
   "outputs": [],
   "source": [
    "# !pip install langchain duckduckgo-search\n",
    "\n",
    "from operator import itemgetter\n",
    "\n",
    "from langchain.agents import AgentExecutor\n",
    "from langchain.agents.format_scratchpad import format_to_openai_functions\n",
    "from langchain.agents.output_parsers import OpenAIFunctionsAgentOutputParser\n",
    "from langchain.chat_models import ChatOpenAI\n",
    "from langchain.prompts.chat import ChatPromptValue\n",
    "from langchain.prompts import ChatPromptTemplate, MessagesPlaceholder\n",
    "from langchain.tools import DuckDuckGoSearchRun\n",
    "from langchain.tools.render import format_tool_to_openai_function\n",
    "\n",
    "tools = [DuckDuckGoSearchRun()]\n",
    "prompt = ChatPromptTemplate.from_messages(\n",
    "    [\n",
    "        (\"system\", \"You are a helpful assistant\"),\n",
    "        (\"user\", \"{input}\"),\n",
    "        MessagesPlaceholder(variable_name=\"agent_scratchpad\"),\n",
    "    ]\n",
    ")\n",
    "llm = ChatOpenAI()\n",
    "\n",
    "def check_prompt(prompt: ChatPromptValue) -> ChatPromptValue:\n",
    "    messages = prompt.to_messages()\n",
    "    num_tokens = llm.get_num_tokens_from_messages(messages)\n",
    "    if num_tokens > 16_000:\n",
    "        pass\n",
    "        # drop initial messages or remove latest messages and append a warning message\n",
    "        # messages = ...\n",
    "    return ChatPromptValue(messages=messages)\n",
    "\n",
    "agent = (\n",
    "    {\n",
    "        \"input\": itemgetter(\"input\"),\n",
    "        \"agent_scratchpad\": lambda x: format_to_openai_functions(\n",
    "            x[\"intermediate_steps\"]\n",
    "        ),\n",
    "    }\n",
    "    | prompt\n",
    "    | check_prompt\n",
    "    | llm.bind(functions=[format_tool_to_openai_function(t) for t in tools])\n",
    "    | OpenAIFunctionsAgentOutputParser()\n",
    ")\n",
    "\n",
    "agent_executor = AgentExecutor(agent=agent, tools=tools, verbose=True)\n",
    "agent_executor.invoke(\n",
    "    {\n",
    "        \"input\": \"Who is leading in the polls for the 2024 presidential election\"\n",
    "    }\n",
    ")"
   ]
  }
 ],
 "metadata": {
  "kernelspec": {
   "display_name": "Python 3 (ipykernel)",
   "language": "python",
   "name": "python3"
  },
  "language_info": {
   "codemirror_mode": {
    "name": "ipython",
    "version": 3
   },
   "file_extension": ".py",
   "mimetype": "text/x-python",
   "name": "python",
   "nbconvert_exporter": "python",
   "pygments_lexer": "ipython3",
   "version": "3.9.1"
  }
 },
 "nbformat": 4,
 "nbformat_minor": 5
}
