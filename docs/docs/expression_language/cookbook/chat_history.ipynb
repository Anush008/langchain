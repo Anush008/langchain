{
 "cells": [
  {
   "cell_type": "markdown",
   "id": "471a83c3-9937-4fd4-853e-1ce868b788f1",
   "metadata": {},
   "source": [
    "# Using Chat Message History"
   ]
  },
  {
   "cell_type": "code",
   "execution_count": 1,
   "id": "89c41b4b-870a-4555-bab3-d22102ec36e3",
   "metadata": {},
   "outputs": [],
   "source": [
    "from typing import Any, Dict, Optional\n",
    "from langchain.prompts.chat import SystemMessagePromptTemplate, MessagesPlaceholder\n",
    "from langchain.chat_models.openai import ChatOpenAI\n",
    "from langchain.schema.output_parser import StrOutputParser\n",
    "from langchain.memory.chat_message_histories import SQLChatMessageHistory\n",
    "from langchain.schema.chat_history import BaseChatMessageHistory\n",
    "from langchain.schema.runnable import (\n",
    "    Runnable,\n",
    "    RunnableBinding,\n",
    "    RunnableConfig,\n",
    "    RunnablePassthrough,\n",
    ")"
   ]
  },
  {
   "cell_type": "code",
   "execution_count": 2,
   "id": "efd05285-8a60-4427-a66f-75e3b1793916",
   "metadata": {},
   "outputs": [
    {
     "data": {
      "text/plain": [
       "\"Hello! I'm an AI assistant, so I don't have feelings, but I'm here to help you. How can I assist you today?\""
      ]
     },
     "execution_count": 2,
     "metadata": {},
     "output_type": "execute_result"
    }
   ],
   "source": [
    "# Stateless chat\n",
    "\n",
    "prompt = (\n",
    "    SystemMessagePromptTemplate.from_template(\"You are a nice assistant.\")\n",
    "    + MessagesPlaceholder(variable_name=\"history\")\n",
    "    + \"{question}\"\n",
    ")\n",
    "\n",
    "openai = ChatOpenAI()\n",
    "\n",
    "chain = prompt | openai | StrOutputParser()\n",
    "\n",
    "chain.invoke({\"question\": \"Hello, how are you?\", \"history\": []})"
   ]
  },
  {
   "cell_type": "code",
   "execution_count": 3,
   "id": "bd54b8d0-19e9-44c0-8a43-82c0bf89f5c4",
   "metadata": {},
   "outputs": [],
   "source": [
    "# Chat with message history\n",
    "\n",
    "\n",
    "class RunnableWithMessageHistory(RunnableBinding):\n",
    "    input_key: str\n",
    "\n",
    "    def __init__(self, runnable: Runnable, input_key: str) -> None:\n",
    "        super().__init__(\n",
    "            input_key=input_key,\n",
    "            bound=(\n",
    "                RunnablePassthrough.assign(history=self._enter_history)\n",
    "                | runnable\n",
    "                | RunnablePassthrough(self._exit_history)\n",
    "            ),\n",
    "            kwargs={},\n",
    "        )\n",
    "\n",
    "    def _enter_history(self, input: Dict[str, Any], config: RunnableConfig) -> None:\n",
    "        hist: Optional[BaseChatMessageHistory] = config.get(\"configurable\", {}).get(\n",
    "            \"message_history\", None\n",
    "        )\n",
    "        if not hist:\n",
    "            raise ValueError(\"No message history found in config.\")\n",
    "\n",
    "        messages = hist.messages\n",
    "\n",
    "        hist.add_user_message(input[self.input_key])\n",
    "\n",
    "        return messages\n",
    "\n",
    "    def _exit_history(self, input: str, config: RunnableConfig) -> None:\n",
    "        hist: Optional[BaseChatMessageHistory] = config.get(\"configurable\", {}).get(\n",
    "            \"message_history\", None\n",
    "        )\n",
    "        if not hist:\n",
    "            raise ValueError(\"No message history found in config.\")\n",
    "\n",
    "        hist.add_ai_message(input)"
   ]
  },
  {
   "cell_type": "code",
   "execution_count": 4,
   "id": "cb3d38f2-67a8-49ec-af0e-6c8f0c5ed5e2",
   "metadata": {},
   "outputs": [],
   "source": [
    "chain_with_history = RunnableWithMessageHistory(chain, \"question\")\n",
    "\n",
    "\n",
    "def invoke(question: str, session_id: str):\n",
    "    return chain_with_history.invoke(\n",
    "        {\"question\": question},\n",
    "        {\n",
    "            \"configurable\": {\n",
    "                \"message_history\": SQLChatMessageHistory(\n",
    "                    session_id=session_id, connection_string=\"sqlite:///test.db\"\n",
    "                )\n",
    "            }\n",
    "        },\n",
    "    )"
   ]
  },
  {
   "cell_type": "code",
   "execution_count": 5,
   "id": "9b873057-b45c-43a9-8be5-d2b0fea941e2",
   "metadata": {},
   "outputs": [
    {
     "name": "stdout",
     "output_type": "stream",
     "text": [
      "Hello Nuno! How can I assist you today?\n"
     ]
    }
   ],
   "source": [
    "print(invoke(\"Hello, I'm Nuno?\", \"test\"))"
   ]
  },
  {
   "cell_type": "code",
   "execution_count": 6,
   "id": "33bda7a4-a89f-4751-bf4e-c24192a1e8f3",
   "metadata": {},
   "outputs": [
    {
     "name": "stdout",
     "output_type": "stream",
     "text": [
      "Your name is Nuno, as you mentioned earlier. Is there anything else you would like to know or discuss?\n"
     ]
    }
   ],
   "source": [
    "print(invoke(\"What is my name?\", \"test\"))"
   ]
  },
  {
   "cell_type": "code",
   "execution_count": null,
   "id": "cce5df02-a91d-490e-8c75-772a8e3e1e76",
   "metadata": {},
   "outputs": [],
   "source": []
  }
 ],
 "metadata": {
  "kernelspec": {
   "display_name": "Python 3 (ipykernel)",
   "language": "python",
   "name": "python3"
  },
  "language_info": {
   "codemirror_mode": {
    "name": "ipython",
    "version": 3
   },
   "file_extension": ".py",
   "mimetype": "text/x-python",
   "name": "python",
   "nbconvert_exporter": "python",
   "pygments_lexer": "ipython3",
   "version": "3.11.5"
  }
 },
 "nbformat": 4,
 "nbformat_minor": 5
}
