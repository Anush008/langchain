{
 "cells": [
  {
   "cell_type": "markdown",
   "id": "471a83c3-9937-4fd4-853e-1ce868b788f1",
   "metadata": {},
   "source": [
    "# Using Chat Message History"
   ]
  },
  {
   "cell_type": "code",
   "execution_count": 1,
   "id": "89c41b4b-870a-4555-bab3-d22102ec36e3",
   "metadata": {},
   "outputs": [],
   "source": [
    "from functools import partial\n",
    "\n",
    "from langchain.prompts.chat import SystemMessagePromptTemplate, MessagesPlaceholder\n",
    "from langchain.chat_models.openai import ChatOpenAI\n",
    "from langchain.schema.output_parser import StrOutputParser\n",
    "from langchain.memory.chat_message_histories import SQLChatMessageHistory\n"
   ]
  },
  {
   "cell_type": "code",
   "execution_count": 2,
   "id": "efd05285-8a60-4427-a66f-75e3b1793916",
   "metadata": {},
   "outputs": [
    {
     "data": {
      "text/plain": [
       "\"Hello! I'm an AI assistant, so I don't have feelings, but I'm here to help you. How can I assist you today?\""
      ]
     },
     "execution_count": 2,
     "metadata": {},
     "output_type": "execute_result"
    }
   ],
   "source": [
    "# Stateless chat\n",
    "\n",
    "prompt = (\n",
    "    SystemMessagePromptTemplate.from_template(\"You are a nice assistant.\")\n",
    "    + MessagesPlaceholder(variable_name=\"history\")\n",
    "    + \"{question}\"\n",
    ")\n",
    "\n",
    "openai = ChatOpenAI()\n",
    "\n",
    "chain = prompt | openai | StrOutputParser()\n",
    "\n",
    "chain.invoke({\"question\": \"Hello, how are you?\", \"history\": []})\n"
   ]
  },
  {
   "cell_type": "code",
   "execution_count": 3,
   "id": "cb3d38f2-67a8-49ec-af0e-6c8f0c5ed5e2",
   "metadata": {},
   "outputs": [],
   "source": [
    "# Stateful chat\n",
    "\n",
    "chain_with_history = chain.with_message_history(\n",
    "    # first arg should be a function that\n",
    "    # - accepts a single arg \"session_id\"\n",
    "    # - returns a BaseChatMessageHistory instance\n",
    "    partial(SQLChatMessageHistory, connection_string=\"sqlite:///test.db\"),\n",
    "    input_key=\"question\"\n",
    ")\n"
   ]
  },
  {
   "cell_type": "code",
   "execution_count": 4,
   "id": "9b873057-b45c-43a9-8be5-d2b0fea941e2",
   "metadata": {},
   "outputs": [
    {
     "data": {
      "text/plain": [
       "'Hello Nuno! How can I assist you today? Is there something specific you would like to know or discuss?'"
      ]
     },
     "execution_count": 4,
     "metadata": {},
     "output_type": "execute_result"
    }
   ],
   "source": [
    "chain_with_history.invoke(\n",
    "    {\"question\": \"Hello, I'm Nuno\"},\n",
    "    {\"configurable\": {\"session_id\": \"test\"}}\n",
    ")\n"
   ]
  },
  {
   "cell_type": "code",
   "execution_count": 5,
   "id": "33bda7a4-a89f-4751-bf4e-c24192a1e8f3",
   "metadata": {},
   "outputs": [
    {
     "data": {
      "text/plain": [
       "'Your name is Nuno, as you mentioned earlier. Is there anything else you would like to know or discuss?'"
      ]
     },
     "execution_count": 5,
     "metadata": {},
     "output_type": "execute_result"
    }
   ],
   "source": [
    "chain_with_history.invoke(\n",
    "    {\"question\": \"What is my name?\"},\n",
    "    {\"configurable\": {\"session_id\": \"test\"}}\n",
    ")\n"
   ]
  },
  {
   "cell_type": "code",
   "execution_count": null,
   "id": "cce5df02-a91d-490e-8c75-772a8e3e1e76",
   "metadata": {},
   "outputs": [],
   "source": []
  }
 ],
 "metadata": {
  "kernelspec": {
   "display_name": "Python 3 (ipykernel)",
   "language": "python",
   "name": "python3"
  },
  "language_info": {
   "codemirror_mode": {
    "name": "ipython",
    "version": 3
   },
   "file_extension": ".py",
   "mimetype": "text/x-python",
   "name": "python",
   "nbconvert_exporter": "python",
   "pygments_lexer": "ipython3",
   "version": "3.11.5"
  }
 },
 "nbformat": 4,
 "nbformat_minor": 5
}
